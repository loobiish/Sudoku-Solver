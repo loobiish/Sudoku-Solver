{
 "cells": [
  {
   "cell_type": "code",
   "execution_count": 1,
   "metadata": {},
   "outputs": [
    {
     "data": {
      "text/plain": [
       "1000000000"
      ]
     },
     "execution_count": 1,
     "metadata": {},
     "output_type": "execute_result"
    }
   ],
   "source": [
    "## Set recursion to 10**9; default recursion was 3000; read about tail recursion for more\n",
    "## https://www.geeksforgeeks.org/python-handling-recursion-limit/\n",
    "# range of same id [-5,256]\n",
    "## https://realpython.com/python-variables/\n",
    "import sys\n",
    "sys.setrecursionlimit(10**9)\n",
    "sys.getrecursionlimit()"
   ]
  },
  {
   "cell_type": "code",
   "execution_count": 2,
   "metadata": {},
   "outputs": [],
   "source": [
    "def print_sudoku(su,n):\n",
    "    dash=\"- \" * (n+1)\n",
    "    for i in range(len(su)):\n",
    "        if i%n==0 and i!=0:\n",
    "            print(dash * n)\n",
    "        for j in range(len(su)):\n",
    "            if j % n==0 and j!=0:\n",
    "                print(\"| \",end=\"\")\n",
    "            if j == n*n - 1:\n",
    "                print(su[i][j])\n",
    "            else:\n",
    "                print(str(su[i][j]) + \" \",end=\"\")\n"
   ]
  },
  {
   "cell_type": "code",
   "execution_count": 3,
   "metadata": {},
   "outputs": [],
   "source": [
    "def find_empty(su):\n",
    "#     print(\"in empty\")\n",
    "    for i in range(len(su)):\n",
    "        for j in range(len(su[0])):\n",
    "            if su[i][j] == 0:\n",
    "                return (i,j)\n",
    "    return None\n"
   ]
  },
  {
   "cell_type": "code",
   "execution_count": 4,
   "metadata": {},
   "outputs": [],
   "source": [
    "def check_valid(su, num, pos ,n):\n",
    "#     print(\"in valid\")\n",
    "    for i in range(len(su[0])):\n",
    "        if su[pos[0]][i] == num and pos[1] != i:\n",
    "            return False\n",
    "    \n",
    "    for i in range(len(su)):\n",
    "        if su[i][pos[1]] == num and pos[0] != i:\n",
    "            return False\n",
    "        \n",
    "    gridx = pos[1] // n\n",
    "    gridy = pos[0] // n\n",
    "    for i in range(gridy * n ,gridy *n + n):\n",
    "        for j in range(gridx * n ,gridx *n + n):\n",
    "            if su[i][j] == num and (i,j) != pos:\n",
    "                return False\n",
    "    return True\n"
   ]
  },
  {
   "cell_type": "code",
   "execution_count": 5,
   "metadata": {},
   "outputs": [],
   "source": [
    "def solve(su, n):\n",
    "#     print(su)\n",
    "    find = find_empty(su)\n",
    "#     print(\"in solve\")\n",
    "    if not find:\n",
    "        return True\n",
    "    else:\n",
    "        row, col =find\n",
    "        for i in range(1, (n**2)+1):\n",
    "            if check_valid(su, i, (row, col), n):\n",
    "                su[row][col] = i\n",
    "\n",
    "                if solve(su,n):\n",
    "                    return True\n",
    "\n",
    "                su[row][col] = 0\n",
    "    return False\n"
   ]
  },
  {
   "cell_type": "code",
   "execution_count": 6,
   "metadata": {
    "scrolled": false
   },
   "outputs": [
    {
     "name": "stdout",
     "output_type": "stream",
     "text": [
      "Enter the number of grid of Sudoku between 2 to 9: 3\n",
      "Enter numbers in the Sudoku\n",
      "Enter '0' for blank spaces\n",
      "Enter numbers separted by 'space' for row 1\n",
      "8 0 0 0 0 0 0 0 0\n",
      "Enter numbers separted by 'space' for row 2\n",
      "0 0 3 6 0 0 0 0 0\n",
      "Enter numbers separted by 'space' for row 3\n",
      "0 7 0 0 9 0 2 0 0\n",
      "Enter numbers separted by 'space' for row 4\n",
      "0 5 0 0 0 7 0 0 0\n",
      "Enter numbers separted by 'space' for row 5\n",
      "0 0 0 0 4 5 7 0 0\n",
      "Enter numbers separted by 'space' for row 6\n",
      "0 0 0 1 0 0 0 3 0\n",
      "Enter numbers separted by 'space' for row 7\n",
      "0 0 1 0 0 0 0 6 8\n",
      "Enter numbers separted by 'space' for row 8\n",
      "0 0 8 5 0 0 0 1 0\n",
      "Enter numbers separted by 'space' for row 9\n",
      "0 9 0 0 0 0 4 0 0\n",
      "\n",
      "\n",
      "\n",
      "\n",
      "8 0 0 | 0 0 0 | 0 0 0\n",
      "0 0 3 | 6 0 0 | 0 0 0\n",
      "0 7 0 | 0 9 0 | 2 0 0\n",
      "- - - - - - - - - - - - \n",
      "0 5 0 | 0 0 7 | 0 0 0\n",
      "0 0 0 | 0 4 5 | 7 0 0\n",
      "0 0 0 | 1 0 0 | 0 3 0\n",
      "- - - - - - - - - - - - \n",
      "0 0 1 | 0 0 0 | 0 6 8\n",
      "0 0 8 | 5 0 0 | 0 1 0\n",
      "0 9 0 | 0 0 0 | 4 0 0\n",
      "\n",
      "\n",
      "\n",
      "\n",
      "\n",
      "After solving the given Sudoku: \n",
      "\n",
      "\n",
      "\n",
      "8 1 2 | 7 5 3 | 6 4 9\n",
      "9 4 3 | 6 8 2 | 1 7 5\n",
      "6 7 5 | 4 9 1 | 2 8 3\n",
      "- - - - - - - - - - - - \n",
      "1 5 4 | 2 3 7 | 8 9 6\n",
      "3 6 9 | 8 4 5 | 7 2 1\n",
      "2 8 7 | 1 6 9 | 5 3 4\n",
      "- - - - - - - - - - - - \n",
      "5 2 1 | 9 7 4 | 3 6 8\n",
      "4 3 8 | 5 2 6 | 9 1 7\n",
      "7 9 6 | 3 1 8 | 4 5 2\n"
     ]
    }
   ],
   "source": [
    "grid=int(input(\"Enter the number of grid of Sudoku between 2 to 9: \"))\n",
    "if grid>1 and grid<10:\n",
    "    flag = 0\n",
    "    print(\"Enter numbers in the Sudoku\")\n",
    "    print(\"Enter '0' for blank spaces\")\n",
    "    li=[]\n",
    "    sudoku=[]\n",
    "    for i in range(0,grid**2):\n",
    "        print(f\"Enter numbers separted by 'space' for row {i+1}\")\n",
    "        li=list(map(int,input().split(\" \")))\n",
    "        if len(li)==grid**2:\n",
    "            sudoku.append(li)\n",
    "            li=[]\n",
    "        else:\n",
    "            print(f\"Please enter exactly {grid**2} elements in single row!\")\n",
    "            break\n",
    "    print(\"\\n\\n\\n\")\n",
    "    print_sudoku(sudoku,grid)\n",
    "    print(\"\\n\\n\")\n",
    "    print(\"\\n\")\n",
    "    solve(sudoku, grid)\n",
    "    for i in sudoku:\n",
    "        for j in i:\n",
    "            if j==0:\n",
    "                print(\"Given Sudoku is not valid!\")\n",
    "                flag=1\n",
    "                break\n",
    "        break\n",
    "    if flag==0:\n",
    "        print(\"After solving the given Sudoku: \\n\\n\\n\")\n",
    "        print_sudoku(sudoku ,grid)\n",
    "else:\n",
    "    print(\"Enter valid grids\")\n",
    "    \n",
    "    "
   ]
  },
  {
   "cell_type": "code",
   "execution_count": null,
   "metadata": {},
   "outputs": [],
   "source": [
    "#Sample 1\n",
    "2\n",
    "0 0 0 3\n",
    "3 2 4 0\n",
    "0 4 3 2\n",
    "2 0 0 0"
   ]
  },
  {
   "cell_type": "code",
   "execution_count": 8,
   "metadata": {},
   "outputs": [],
   "source": [
    "#Sample 6\n",
    "##World's hardest Sudoku!\n",
    "3\n",
    "8 0 0 0 0 0 0 0 0\n",
    "0 0 3 6 0 0 0 0 0\n",
    "0 7 0 0 9 0 2 0 0\n",
    "0 5 0 0 0 7 0 0 0\n",
    "0 0 0 0 4 5 7 0 0\n",
    "0 0 0 1 0 0 0 3 0\n",
    "0 0 1 0 0 0 0 6 8\n",
    "0 0 8 5 0 0 0 1 0\n",
    "0 9 0 0 0 0 4 0 0"
   ]
  },
  {
   "cell_type": "code",
   "execution_count": null,
   "metadata": {},
   "outputs": [],
   "source": [
    "#Sample 2\n",
    "3\n",
    "8 0 7 1 0 4 3 0 6\n",
    "0 6 5 3 0 0 1 0 0\n",
    "3 0 1 0 0 9 0 5 0\n",
    "5 0 3 0 6 0 0 7 1\n",
    "0 7 0 5 0 3 0 8 9\n",
    "0 1 8 0 7 0 4 0 5\n",
    "0 8 0 0 0 5 9 1 0\n",
    "1 0 4 7 0 6 0 0 3\n",
    "0 3 9 0 4 1 5 0 7"
   ]
  },
  {
   "cell_type": "code",
   "execution_count": null,
   "metadata": {},
   "outputs": [],
   "source": [
    "#Sample 3\n",
    "3\n",
    "7 8 0 4 0 0 1 2 0\n",
    "6 0 0 0 7 5 0 0 9\n",
    "0 0 0 6 0 1 0 7 8\n",
    "0 0 7 0 4 0 2 6 0\n",
    "0 0 1 0 5 0 9 3 0\n",
    "9 0 4 0 6 0 0 0 5\n",
    "0 7 0 3 0 0 0 1 2\n",
    "1 2 0 0 0 7 4 0 0\n",
    "0 4 9 2 0 6 0 0 7"
   ]
  },
  {
   "cell_type": "code",
   "execution_count": null,
   "metadata": {},
   "outputs": [],
   "source": [
    "#Sample 4\n",
    "3\n",
    "0 7 0 0 3 0 0 0 8\n",
    "0 0 2 0 0 0 0 1 4\n",
    "1 0 8 0 0 4 7 0 0\n",
    "0 8 0 0 0 5 0 0 0\n",
    "0 0 7 8 1 2 9 0 0\n",
    "0 0 0 4 0 0 0 8 0\n",
    "0 0 5 6 0 0 3 0 9\n",
    "7 2 0 0 0 0 6 0 0\n",
    "6 0 0 0 4 0 0 7 0"
   ]
  },
  {
   "cell_type": "code",
   "execution_count": null,
   "metadata": {},
   "outputs": [],
   "source": [
    "#Sample 5\n",
    "4\n",
    "0 2 3 0 5 0 7 0 0 10 11 0 13 14 0 0\n",
    "0 0 7 8 0 2 3 0 13 0 15 0 9 10 0 12\n",
    "9 0 11 12 0 14 15 0 1 2 3 4 5 6 7 8\n",
    "13 0 0 0 0 10 11 12 5 6 7 0 1 0 3 4\n",
    "2 1 4 3 6 5 8 0 10 0 12 0 14 13 0 0\n",
    "6 0 0 0 2 1 0 3 14 13 16 0 0 9 12 0\n",
    "10 0 12 0 0 13 0 15 2 1 4 3 6 0 8 7\n",
    "14 13 0 15 0 9 12 0 6 5 8 7 2 1 4 3\n",
    "3 0 1 2 7 0 5 6 0 12 9 10 0 0 13 14\n",
    "0 8 0 6 3 4 0 2 15 16 0 14 0 12 9 0\n",
    "11 12 9 0 15 0 13 0 3 4 1 2 0 8 5 6\n",
    "0 16 13 0 11 0 9 10 7 8 5 6 3 0 1 2\n",
    "4 0 2 1 0 7 6 0 12 11 0 9 16 15 0 0\n",
    "8 7 6 5 4 3 0 0 0 0 14 0 12 11 10 9\n",
    "0 11 10 9 0 15 0 13 4 3 2 1 0 7 6 5\n",
    "16 0 14 13 0 11 0 9 8 7 6 0 0 3 2 0"
   ]
  },
  {
   "cell_type": "code",
   "execution_count": null,
   "metadata": {},
   "outputs": [],
   "source": []
  },
  {
   "cell_type": "code",
   "execution_count": null,
   "metadata": {},
   "outputs": [],
   "source": []
  }
 ],
 "metadata": {
  "kernelspec": {
   "display_name": "Python 3",
   "language": "python",
   "name": "python3"
  },
  "language_info": {
   "codemirror_mode": {
    "name": "ipython",
    "version": 3
   },
   "file_extension": ".py",
   "mimetype": "text/x-python",
   "name": "python",
   "nbconvert_exporter": "python",
   "pygments_lexer": "ipython3",
   "version": "3.7.3"
  }
 },
 "nbformat": 4,
 "nbformat_minor": 2
}
